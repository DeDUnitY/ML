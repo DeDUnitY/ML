{
 "cells": [
  {
   "cell_type": "code",
   "id": "initial_id",
   "metadata": {
    "collapsed": true,
    "ExecuteTime": {
     "end_time": "2025-05-21T13:21:47.673413Z",
     "start_time": "2025-05-21T13:21:47.661103Z"
    }
   },
   "source": [
    "# Импорт необходимых библиотек\n",
    "import numpy as np\n",
    "import pandas as pd\n",
    "import matplotlib.pyplot as plt\n",
    "import time\n",
    "from sklearn.model_selection import train_test_split, RandomizedSearchCV\n",
    "from sklearn.metrics import accuracy_score, f1_score\n",
    "from xgboost import XGBClassifier\n",
    "from hyperopt import hp, fmin, tpe, Trials, STATUS_OK\n",
    "from scipy.stats import randint, uniform\n",
    "\n",
    "# Загрузка данных\n",
    "data = pd.read_csv('diabetes.csv')\n",
    "\n",
    "# Разделение данных\n",
    "X = data.drop('Outcome', axis=1)\n",
    "y = data['Outcome']\n",
    "X_train, X_test, y_train, y_test = train_test_split(X, y, test_size=0.2, random_state=42)\n",
    "\n",
    "# Выведем информацию о данных для проверки\n",
    "print(\"Размеры выборок:\")\n",
    "print(f\"Обучающая: {X_train.shape}, Тестовая: {X_test.shape}\")\n",
    "print(\"\\nПервые 5 строк данных:\")\n",
    "print(data.head())"
   ],
   "outputs": [
    {
     "name": "stdout",
     "output_type": "stream",
     "text": [
      "Размеры выборок:\n",
      "Обучающая: (614, 8), Тестовая: (154, 8)\n",
      "\n",
      "Первые 5 строк данных:\n",
      "   Pregnancies  Glucose  BloodPressure  SkinThickness  Insulin   BMI  \\\n",
      "0            6      148             72             35        0  33.6   \n",
      "1            1       85             66             29        0  26.6   \n",
      "2            8      183             64              0        0  23.3   \n",
      "3            1       89             66             23       94  28.1   \n",
      "4            0      137             40             35      168  43.1   \n",
      "\n",
      "   DiabetesPedigreeFunction  Age  Outcome  \n",
      "0                     0.627   50        1  \n",
      "1                     0.351   31        0  \n",
      "2                     0.672   32        1  \n",
      "3                     0.167   21        0  \n",
      "4                     2.288   33        1  \n"
     ]
    }
   ],
   "execution_count": 12
  },
  {
   "metadata": {
    "ExecuteTime": {
     "end_time": "2025-05-21T13:21:53.796189Z",
     "start_time": "2025-05-21T13:21:50.026930Z"
    }
   },
   "cell_type": "code",
   "source": [
    "# Определение пространства параметров\n",
    "param_dist = {\n",
    "    'n_estimators': randint(50, 200),\n",
    "    'max_depth': randint(3, 10),\n",
    "    'learning_rate': uniform(0.01, 0.3),\n",
    "    'subsample': uniform(0.6, 0.4),\n",
    "    'colsample_bytree': uniform(0.6, 0.4),\n",
    "    'gamma': uniform(0, 0.5)\n",
    "}\n",
    "\n",
    "# Создание модели\n",
    "xgb_model = XGBClassifier(objective='binary:logistic', random_state=42)\n",
    "\n",
    "# Настройка RandomizedSearchCV\n",
    "random_search = RandomizedSearchCV(\n",
    "    estimator=xgb_model,\n",
    "    param_distributions=param_dist,\n",
    "    n_iter=50,\n",
    "    scoring='accuracy',\n",
    "    cv=5,\n",
    "    verbose=1,\n",
    "    random_state=42,\n",
    "    n_jobs=-1\n",
    ")\n",
    "\n",
    "# Запуск поиска\n",
    "start_time = time.time()\n",
    "random_search.fit(X_train, y_train)\n",
    "random_search_time = time.time() - start_time\n",
    "\n",
    "# Лучшие параметры и результаты\n",
    "print(\"\\nРезультаты Random Search:\")\n",
    "print(f\"Лучшие параметры: {random_search.best_params_}\")\n",
    "print(f\"Лучшая accuracy: {random_search.best_score_:.4f}\")\n",
    "print(f\"Время выполнения: {random_search_time:.2f} сек\")\n",
    "\n",
    "# Оценка на тестовых данных\n",
    "best_random_model = random_search.best_estimator_\n",
    "y_pred = best_random_model.predict(X_test)\n",
    "test_accuracy = accuracy_score(y_test, y_pred)\n",
    "test_f1 = f1_score(y_test, y_pred)\n",
    "\n",
    "print(\"\\nОценка на тестовых данных:\")\n",
    "print(f\"Accuracy: {test_accuracy:.4f}\")\n",
    "print(f\"F1-score: {test_f1:.4f}\")"
   ],
   "id": "8af90e3709a82969",
   "outputs": [
    {
     "name": "stdout",
     "output_type": "stream",
     "text": [
      "Fitting 5 folds for each of 50 candidates, totalling 250 fits\n",
      "\n",
      "Результаты Random Search:\n",
      "Лучшие параметры: {'colsample_bytree': np.float64(0.8232408008069365), 'gamma': np.float64(0.2019180855290204), 'learning_rate': np.float64(0.029467674132694466), 'max_depth': 4, 'n_estimators': 101, 'subsample': np.float64(0.6987504251354405)}\n",
      "Лучшая accuracy: 0.7801\n",
      "Время выполнения: 3.76 сек\n",
      "\n",
      "Оценка на тестовых данных:\n",
      "Accuracy: 0.7532\n",
      "F1-score: 0.6607\n"
     ]
    }
   ],
   "execution_count": 13
  },
  {
   "metadata": {
    "ExecuteTime": {
     "end_time": "2025-05-21T13:21:57.679115Z",
     "start_time": "2025-05-21T13:21:55.583934Z"
    }
   },
   "cell_type": "code",
   "source": [
    "space = {\n",
    "    'n_estimators': hp.quniform('n_estimators', 50, 200, 1),\n",
    "    'max_depth': hp.quniform('max_depth', 3, 10, 1),\n",
    "    'learning_rate': hp.uniform('learning_rate', 0.01, 0.3),\n",
    "    'subsample': hp.uniform('subsample', 0.6, 1.0),\n",
    "    'colsample_bytree': hp.uniform('colsample_bytree', 0.6, 1.0),\n",
    "    'gamma': hp.uniform('gamma', 0, 0.5)\n",
    "}\n",
    "\n",
    "# Функция для минимизации\n",
    "def objective(params):\n",
    "    # Преобразование параметров к нужным типам\n",
    "    params = {\n",
    "        'n_estimators': int(params['n_estimators']),\n",
    "        'max_depth': int(params['max_depth']),\n",
    "        'learning_rate': params['learning_rate'],\n",
    "        'subsample': params['subsample'],\n",
    "        'colsample_bytree': params['colsample_bytree'],\n",
    "        'gamma': params['gamma'],\n",
    "        'objective': 'binary:logistic',\n",
    "        'random_state': 42\n",
    "    }\n",
    "    \n",
    "    # Создание и обучение модели\n",
    "    model = XGBClassifier(**params)\n",
    "    model.fit(X_train, y_train)\n",
    "    \n",
    "    # Прогнозирование и оценка\n",
    "    y_pred = model.predict(X_test)\n",
    "    accuracy = accuracy_score(y_test, y_pred)\n",
    "    \n",
    "    # Мы хотим максимизировать accuracy, поэтому возвращаем -accuracy для минимизации\n",
    "    return {'loss': -accuracy, 'status': STATUS_OK}\n",
    "\n",
    "# Запуск оптимизации\n",
    "trials = Trials()\n",
    "start_time = time.time()\n",
    "\n",
    "# ИСПРАВЛЕНИЕ: используем np.random.default_rng() вместо RandomState\n",
    "best = fmin(\n",
    "    fn=objective,\n",
    "    space=space,\n",
    "    algo=tpe.suggest,\n",
    "    max_evals=50,\n",
    "    trials=trials,\n",
    "    rstate=np.random.default_rng(42)  # Исправленная строка\n",
    ")\n",
    "\n",
    "hyperopt_time = time.time() - start_time\n",
    "\n",
    "# Преобразование лучших параметров\n",
    "best_params = {\n",
    "    'n_estimators': int(best['n_estimators']),\n",
    "    'max_depth': int(best['max_depth']),\n",
    "    'learning_rate': best['learning_rate'],\n",
    "    'subsample': best['subsample'],\n",
    "    'colsample_bytree': best['colsample_bytree'],\n",
    "    'gamma': best['gamma']\n",
    "}\n",
    "\n",
    "print(\"\\nРезультаты Hyperopt (TPE):\")\n",
    "print(f\"Лучшие параметры: {best_params}\")\n",
    "print(f\"Лучшая accuracy: {-trials.best_trial['result']['loss']:.4f}\")\n",
    "print(f\"Время выполнения: {hyperopt_time:.2f} сек\")\n",
    "\n",
    "# Оценка лучшей модели на тестовых данных\n",
    "best_hyperopt_model = XGBClassifier(**best_params, objective='binary:logistic', random_state=42)\n",
    "best_hyperopt_model.fit(X_train, y_train)\n",
    "y_pred = best_hyperopt_model.predict(X_test)\n",
    "test_accuracy = accuracy_score(y_test, y_pred)\n",
    "test_f1 = f1_score(y_test, y_pred)\n",
    "\n",
    "print(\"\\nОценка на тестовых данных:\")\n",
    "print(f\"Accuracy: {test_accuracy:.4f}\")\n",
    "print(f\"F1-score: {test_f1:.4f}\")"
   ],
   "id": "a66cba18478f941a",
   "outputs": [
    {
     "name": "stdout",
     "output_type": "stream",
     "text": [
      "100%|██████████| 50/50 [00:02<00:00, 24.27trial/s, best loss: -0.7792207792207793]\n",
      "\n",
      "Результаты Hyperopt (TPE):\n",
      "Лучшие параметры: {'n_estimators': 97, 'max_depth': 3, 'learning_rate': np.float64(0.013445512837462316), 'subsample': np.float64(0.8398242687206909), 'colsample_bytree': np.float64(0.9396490425936538), 'gamma': np.float64(0.2073344374525718)}\n",
      "Лучшая accuracy: 0.7792\n",
      "Время выполнения: 2.06 сек\n",
      "\n",
      "Оценка на тестовых данных:\n",
      "Accuracy: 0.7792\n",
      "F1-score: 0.6531\n"
     ]
    }
   ],
   "execution_count": 14
  },
  {
   "metadata": {
    "ExecuteTime": {
     "end_time": "2025-05-21T13:23:00.619101Z",
     "start_time": "2025-05-21T13:23:00.551826Z"
    }
   },
   "cell_type": "code",
   "source": [
    "# Сравнение методов\n",
    "comparison = pd.DataFrame({\n",
    "    'Метод': ['Random Search', 'Hyperopt (TPE)'],\n",
    "    'Лучшая accuracy': [random_search.best_score_, -trials.best_trial['result']['loss']],\n",
    "    'Тестовая accuracy': [test_accuracy, test_accuracy],\n",
    "    'Время (сек)': [random_search_time, hyperopt_time],\n",
    "    'Лучшие параметры': [random_search.best_params_, best_params]\n",
    "})\n",
    "\n",
    "print(\"\\nСравнение методов оптимизации:\")\n",
    "print(comparison[['Метод', 'Лучшая accuracy', 'Тестовая accuracy', 'Время (сек)']])\n",
    "\n",
    "print(\"\\nРазница в параметрах:\")\n",
    "print(\"Random Search:\")\n",
    "print(random_search.best_params_)\n",
    "print(\"\\nHyperopt (TPE):\")\n",
    "print(best_params)\n",
    "\n",
    "# Визуализация времени выполнения\n",
    "plt.figure(figsize=(8, 5))\n",
    "plt.bar(['Random Search', 'Hyperopt (TPE)'], [random_search_time, hyperopt_time])\n",
    "plt.title('Сравнение времени выполнения методов')\n",
    "plt.ylabel('Время (секунды)')\n",
    "plt.show()"
   ],
   "id": "fbf08433077672b9",
   "outputs": [
    {
     "name": "stdout",
     "output_type": "stream",
     "text": [
      "\n",
      "Сравнение методов оптимизации:\n",
      "            Метод  Лучшая accuracy  Тестовая accuracy  Время (сек)\n",
      "0   Random Search         0.780115           0.779221     3.757886\n",
      "1  Hyperopt (TPE)         0.779221           0.779221     2.063479\n",
      "\n",
      "Разница в параметрах:\n",
      "Random Search:\n",
      "{'colsample_bytree': np.float64(0.8232408008069365), 'gamma': np.float64(0.2019180855290204), 'learning_rate': np.float64(0.029467674132694466), 'max_depth': 4, 'n_estimators': 101, 'subsample': np.float64(0.6987504251354405)}\n",
      "\n",
      "Hyperopt (TPE):\n",
      "{'n_estimators': 97, 'max_depth': 3, 'learning_rate': np.float64(0.013445512837462316), 'subsample': np.float64(0.8398242687206909), 'colsample_bytree': np.float64(0.9396490425936538), 'gamma': np.float64(0.2073344374525718)}\n"
     ]
    },
    {
     "data": {
      "text/plain": [
       "<Figure size 800x500 with 1 Axes>"
      ],
      "image/png": "[encoded data removed]"
     },
     "metadata": {},
     "output_type": "display_data"
    }
   ],
   "execution_count": 16
  },
  {
   "metadata": {},
   "cell_type": "code",
   "outputs": [],
   "execution_count": null,
   "source": [
    "Вывод:\n",
    "По итогу работы обоих методов мы получили достаточно похожую точность, но TPE работает почти за вдвое меньшее время. \n",
    "Теоретически ТРЕ более предпочтителен в более сложных случая, ведь он работает быстрее."
   ],
   "id": "ea66cc17eddd1b6c"
  }
 ],
 "metadata": {
  "kernelspec": {
   "display_name": "Python 3",
   "language": "python",
   "name": "python3"
  },
  "language_info": {
   "codemirror_mode": {
    "name": "ipython",
    "version": 2
   },
   "file_extension": ".py",
   "mimetype": "text/x-python",
   "name": "python",
   "nbconvert_exporter": "python",
   "pygments_lexer": "ipython2",
   "version": "2.7.6"
  }
 },
 "nbformat": 4,
 "nbformat_minor": 5
}
